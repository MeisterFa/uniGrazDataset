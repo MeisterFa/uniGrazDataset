{
 "cells": [
  {
   "cell_type": "code",
   "execution_count": 2,
   "metadata": {},
   "outputs": [
    {
     "name": "stdout",
     "output_type": "stream",
     "text": [
      "Defaulting to user installation because normal site-packages is not writeable\n",
      "Requirement already satisfied: camelot-py[cv] in /home/fabian/.local/lib/python3.8/site-packages (0.10.1)\n",
      "Requirement already satisfied: click>=6.7 in /home/fabian/.local/lib/python3.8/site-packages (from camelot-py[cv]) (8.1.3)\n",
      "Requirement already satisfied: openpyxl>=2.5.8 in /home/fabian/.local/lib/python3.8/site-packages (from camelot-py[cv]) (3.0.10)\n",
      "Requirement already satisfied: PyPDF2>=1.26.0 in /home/fabian/.local/lib/python3.8/site-packages (from camelot-py[cv]) (2.11.1)\n",
      "Requirement already satisfied: tabulate>=0.8.9 in /home/fabian/.local/lib/python3.8/site-packages (from camelot-py[cv]) (0.8.10)\n",
      "Requirement already satisfied: pandas>=0.23.4 in /home/fabian/.local/lib/python3.8/site-packages (from camelot-py[cv]) (1.4.3)\n",
      "Requirement already satisfied: pdfminer.six>=20200726 in /home/fabian/.local/lib/python3.8/site-packages (from camelot-py[cv]) (20220524)\n",
      "Requirement already satisfied: chardet>=3.0.4 in /home/fabian/.local/lib/python3.8/site-packages (from camelot-py[cv]) (5.0.0)\n",
      "Requirement already satisfied: numpy>=1.13.3 in /home/fabian/.local/lib/python3.8/site-packages (from camelot-py[cv]) (1.23.0)\n",
      "Requirement already satisfied: pdftopng>=0.2.3 in /home/fabian/.local/lib/python3.8/site-packages (from camelot-py[cv]) (0.2.3)\n",
      "Requirement already satisfied: opencv-python>=3.4.2.17 in /home/fabian/.local/lib/python3.8/site-packages (from camelot-py[cv]) (4.6.0.66)\n",
      "Requirement already satisfied: ghostscript>=0.7 in /home/fabian/.local/lib/python3.8/site-packages (from camelot-py[cv]) (0.7)\n",
      "Requirement already satisfied: setuptools>=38.6.0 in /home/fabian/.local/lib/python3.8/site-packages (from ghostscript>=0.7->camelot-py[cv]) (65.3.0)\n",
      "Requirement already satisfied: et-xmlfile in /home/fabian/.local/lib/python3.8/site-packages (from openpyxl>=2.5.8->camelot-py[cv]) (1.1.0)\n",
      "Requirement already satisfied: python-dateutil>=2.8.1 in /home/fabian/.local/lib/python3.8/site-packages (from pandas>=0.23.4->camelot-py[cv]) (2.8.2)\n",
      "Requirement already satisfied: pytz>=2020.1 in /home/fabian/.local/lib/python3.8/site-packages (from pandas>=0.23.4->camelot-py[cv]) (2022.1)\n",
      "Requirement already satisfied: cryptography>=36.0.0 in /home/fabian/.local/lib/python3.8/site-packages (from pdfminer.six>=20200726->camelot-py[cv]) (37.0.4)\n",
      "Requirement already satisfied: charset-normalizer>=2.0.0 in /home/fabian/.local/lib/python3.8/site-packages (from pdfminer.six>=20200726->camelot-py[cv]) (2.1.1)\n",
      "Requirement already satisfied: typing-extensions>=3.10.0.0 in /home/fabian/.local/lib/python3.8/site-packages (from PyPDF2>=1.26.0->camelot-py[cv]) (4.3.0)\n",
      "Requirement already satisfied: cffi>=1.12 in /home/fabian/.local/lib/python3.8/site-packages (from cryptography>=36.0.0->pdfminer.six>=20200726->camelot-py[cv]) (1.15.1)\n",
      "Requirement already satisfied: six>=1.5 in /home/fabian/.local/lib/python3.8/site-packages (from python-dateutil>=2.8.1->pandas>=0.23.4->camelot-py[cv]) (1.16.0)\n",
      "Requirement already satisfied: pycparser in /home/fabian/.local/lib/python3.8/site-packages (from cffi>=1.12->cryptography>=36.0.0->pdfminer.six>=20200726->camelot-py[cv]) (2.21)\n"
     ]
    }
   ],
   "source": [
    "!pip install \"camelot-py[cv]\""
   ]
  },
  {
   "cell_type": "code",
   "execution_count": 8,
   "metadata": {},
   "outputs": [],
   "source": [
    "import camelot\n",
    "from tabulate import tabulate\n",
    "import pandas as pd\n",
    "\n",
    "# PDF file to extract tables from\n",
    "file = \"917-937_Allgemeine_Bestimmungen_u__ber_entgeltliche_Gescha__fte_08032022.pdf\""
   ]
  },
  {
   "cell_type": "code",
   "execution_count": 68,
   "metadata": {},
   "outputs": [],
   "source": [
    "tables = camelot.read_pdf(file,flag_size=True,pages=\"1-end\")"
   ]
  },
  {
   "cell_type": "code",
   "execution_count": 69,
   "metadata": {},
   "outputs": [
    {
     "name": "stdout",
     "output_type": "stream",
     "text": [
      "Total tables extracted: 28\n"
     ]
    }
   ],
   "source": [
    "print(\"Total tables extracted:\", tables.n)"
   ]
  },
  {
   "cell_type": "code",
   "execution_count": 70,
   "metadata": {},
   "outputs": [
    {
     "data": {
      "text/plain": [
       "{'accuracy': 100.0, 'whitespace': 20.0, 'order': 1, 'page': 1}"
      ]
     },
     "execution_count": 70,
     "metadata": {},
     "output_type": "execute_result"
    }
   ],
   "source": [
    "tables[0].parsing_report"
   ]
  },
  {
   "cell_type": "code",
   "execution_count": 71,
   "metadata": {},
   "outputs": [
    {
     "data": {
      "text/html": [
       "<div>\n",
       "<style scoped>\n",
       "    .dataframe tbody tr th:only-of-type {\n",
       "        vertical-align: middle;\n",
       "    }\n",
       "\n",
       "    .dataframe tbody tr th {\n",
       "        vertical-align: top;\n",
       "    }\n",
       "\n",
       "    .dataframe thead th {\n",
       "        text-align: right;\n",
       "    }\n",
       "</style>\n",
       "<table border=\"1\" class=\"dataframe\">\n",
       "  <thead>\n",
       "    <tr style=\"text-align: right;\">\n",
       "      <th></th>\n",
       "      <th>0</th>\n",
       "      <th>1</th>\n",
       "      <th>2</th>\n",
       "      <th>3</th>\n",
       "      <th>4</th>\n",
       "    </tr>\n",
       "  </thead>\n",
       "  <tbody>\n",
       "    <tr>\n",
       "      <th>0</th>\n",
       "      <td>Originaltext</td>\n",
       "      <td>Regelungsinhalt</td>\n",
       "      <td>Bemerkungen \\n(zB zum Alter, zu \\nSchnittstell...</td>\n",
       "      <td>Textvorschlag</td>\n",
       "      <td>Alternativen</td>\n",
       "    </tr>\n",
       "    <tr>\n",
       "      <th>1</th>\n",
       "      <td>Allgemeine Bestimmungen \\nüber entgeltliche Ve...</td>\n",
       "      <td></td>\n",
       "      <td></td>\n",
       "      <td>Allgemeine Bestimmungen \\nüber entgeltliche Ve...</td>\n",
       "      <td></td>\n",
       "    </tr>\n",
       "    <tr>\n",
       "      <th>2</th>\n",
       "      <td>§ 917.  Bei  einem  entgeltlichen \\nVertrage  ...</td>\n",
       "      <td>Definition des \\nentgeltlichen \\nVertrages</td>\n",
       "      <td>idF RGBl. Nr. \\n69/1916</td>\n",
       "      <td>§ 917. &lt;s&gt;1&lt;/s&gt;Bei einem entgeltlichen&lt;s&gt;1&lt;/s&gt;...</td>\n",
       "      <td>§ 917. &lt;s&gt;1&lt;/s&gt;Ein entgeltlicher Vertrag liegt...</td>\n",
       "    </tr>\n",
       "    <tr>\n",
       "      <th>3</th>\n",
       "      <td>§ 917a. \\n&lt;s&gt;1&lt;/s&gt;Ist zum Schutz eines Vertrag...</td>\n",
       "      <td>Folgen der Ver-\\nletzung gesetzli-\\ncher Preis...</td>\n",
       "      <td>idF BGBl. Nr. \\n140/1979</td>\n",
       "      <td>§ 917a. &lt;s&gt;1&lt;/s&gt;Ist zum Schutz eines Vertragsp...</td>\n",
       "      <td></td>\n",
       "    </tr>\n",
       "  </tbody>\n",
       "</table>\n",
       "</div>"
      ],
      "text/plain": [
       "                                                   0  \\\n",
       "0                                       Originaltext   \n",
       "1  Allgemeine Bestimmungen \\nüber entgeltliche Ve...   \n",
       "2  § 917.  Bei  einem  entgeltlichen \\nVertrage  ...   \n",
       "3  § 917a. \\n<s>1</s>Ist zum Schutz eines Vertrag...   \n",
       "\n",
       "                                                   1  \\\n",
       "0                                    Regelungsinhalt   \n",
       "1                                                      \n",
       "2         Definition des \\nentgeltlichen \\nVertrages   \n",
       "3  Folgen der Ver-\\nletzung gesetzli-\\ncher Preis...   \n",
       "\n",
       "                                                   2  \\\n",
       "0  Bemerkungen \\n(zB zum Alter, zu \\nSchnittstell...   \n",
       "1                                                      \n",
       "2                            idF RGBl. Nr. \\n69/1916   \n",
       "3                           idF BGBl. Nr. \\n140/1979   \n",
       "\n",
       "                                                   3  \\\n",
       "0                                      Textvorschlag   \n",
       "1  Allgemeine Bestimmungen \\nüber entgeltliche Ve...   \n",
       "2  § 917. <s>1</s>Bei einem entgeltlichen<s>1</s>...   \n",
       "3  § 917a. <s>1</s>Ist zum Schutz eines Vertragsp...   \n",
       "\n",
       "                                                   4  \n",
       "0                                       Alternativen  \n",
       "1                                                     \n",
       "2  § 917. <s>1</s>Ein entgeltlicher Vertrag liegt...  \n",
       "3                                                     "
      ]
     },
     "execution_count": 71,
     "metadata": {},
     "output_type": "execute_result"
    }
   ],
   "source": [
    "df = tables[0].df\n",
    "df"
   ]
  },
  {
   "cell_type": "code",
   "execution_count": 72,
   "metadata": {},
   "outputs": [
    {
     "data": {
      "text/html": [
       "<div>\n",
       "<style scoped>\n",
       "    .dataframe tbody tr th:only-of-type {\n",
       "        vertical-align: middle;\n",
       "    }\n",
       "\n",
       "    .dataframe tbody tr th {\n",
       "        vertical-align: top;\n",
       "    }\n",
       "\n",
       "    .dataframe thead th {\n",
       "        text-align: right;\n",
       "    }\n",
       "</style>\n",
       "<table border=\"1\" class=\"dataframe\">\n",
       "  <thead>\n",
       "    <tr style=\"text-align: right;\">\n",
       "      <th></th>\n",
       "      <th>3</th>\n",
       "    </tr>\n",
       "  </thead>\n",
       "  <tbody>\n",
       "    <tr>\n",
       "      <th>0</th>\n",
       "      <td>Textvorschlag</td>\n",
       "    </tr>\n",
       "    <tr>\n",
       "      <th>1</th>\n",
       "      <td>Allgemeine Bestimmungen \\nüber entgeltliche Ve...</td>\n",
       "    </tr>\n",
       "    <tr>\n",
       "      <th>2</th>\n",
       "      <td>§ 917. &lt;s&gt;1&lt;/s&gt;Bei einem entgeltlichen&lt;s&gt;1&lt;/s&gt;...</td>\n",
       "    </tr>\n",
       "    <tr>\n",
       "      <th>3</th>\n",
       "      <td>§ 917a. &lt;s&gt;1&lt;/s&gt;Ist zum Schutz eines Vertragsp...</td>\n",
       "    </tr>\n",
       "  </tbody>\n",
       "</table>\n",
       "</div>"
      ],
      "text/plain": [
       "                                                   3\n",
       "0                                      Textvorschlag\n",
       "1  Allgemeine Bestimmungen \\nüber entgeltliche Ve...\n",
       "2  § 917. <s>1</s>Bei einem entgeltlichen<s>1</s>...\n",
       "3  § 917a. <s>1</s>Ist zum Schutz eines Vertragsp..."
      ]
     },
     "execution_count": 72,
     "metadata": {},
     "output_type": "execute_result"
    }
   ],
   "source": [
    "df[[3]]"
   ]
  },
  {
   "cell_type": "code",
   "execution_count": 73,
   "metadata": {},
   "outputs": [
    {
     "name": "stdout",
     "output_type": "stream",
     "text": [
      "'Textvorschlag'\n",
      "'Allgemeine Bestimmungen \\nüber entgeltliche Verträge'\n",
      "'§ 917. <s>1</s>Bei einem entgeltlichen<s>1</s>Vertrag werden von beiden Ver-\\ntragsteilen \\nVerpflichtungen \\nübernommen. <s>2</s>Auf ihren Inhalt kommt  es  nicht  an;  sie  können \\nauch  auf  Unterlassungen  ge-\\nrichtet sein.'\n",
      "'§ 917a. <s>1</s>Ist zum Schutz eines Vertragspartners  gesetzlich  ein \\nHöchst- oder ein Mindestpreis<s>3</s>festgelegt, \\nso \\ngilt \\nbei  Über-\\nschreitung  des  Höchstpreises \\ndieser \\nPreis \\nals \\nvereinbart. \\n<s>2</s>Ebenso ist bei unterschrittenem Mindestpreis \\ndieser  Mindest-\\npreis zu leisten.'\n"
     ]
    }
   ],
   "source": [
    "for i,j in df[[3]].iterrows():\n",
    "    lol = repr(j[3])\n",
    "    print(lol)"
   ]
  }
 ],
 "metadata": {
  "kernelspec": {
   "display_name": "Python 3.6.9 64-bit",
   "language": "python",
   "name": "python3"
  },
  "language_info": {
   "codemirror_mode": {
    "name": "ipython",
    "version": 3
   },
   "file_extension": ".py",
   "mimetype": "text/x-python",
   "name": "python",
   "nbconvert_exporter": "python",
   "pygments_lexer": "ipython3",
   "version": "3.6.9"
  },
  "orig_nbformat": 4,
  "vscode": {
   "interpreter": {
    "hash": "aee8b7b246df8f9039afb4144a1f6fd8d2ca17a180786b69acc140d282b71a49"
   }
  }
 },
 "nbformat": 4,
 "nbformat_minor": 2
}
